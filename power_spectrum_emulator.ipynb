{
 "cells": [
  {
   "cell_type": "code",
   "execution_count": 2,
   "metadata": {},
   "outputs": [],
   "source": [
    "import numpy as np\n",
    "import pandas as pd"
   ]
  },
  {
   "cell_type": "code",
   "execution_count": null,
   "metadata": {},
   "outputs": [],
   "source": []
  },
  {
   "cell_type": "markdown",
   "metadata": {},
   "source": [
    "# Load parameters and dataset"
   ]
  },
  {
   "cell_type": "code",
   "execution_count": 3,
   "metadata": {},
   "outputs": [
    {
     "data": {
      "text/html": [
       "<div>\n",
       "<style scoped>\n",
       "    .dataframe tbody tr th:only-of-type {\n",
       "        vertical-align: middle;\n",
       "    }\n",
       "\n",
       "    .dataframe tbody tr th {\n",
       "        vertical-align: top;\n",
       "    }\n",
       "\n",
       "    .dataframe thead th {\n",
       "        text-align: right;\n",
       "    }\n",
       "</style>\n",
       "<table border=\"1\" class=\"dataframe\">\n",
       "  <thead>\n",
       "    <tr style=\"text-align: right;\">\n",
       "      <th></th>\n",
       "      <th>Omega_m</th>\n",
       "      <th>A_s</th>\n",
       "      <th>w0</th>\n",
       "      <th>h</th>\n",
       "      <th>z</th>\n",
       "      <th>c_min</th>\n",
       "    </tr>\n",
       "  </thead>\n",
       "  <tbody>\n",
       "    <tr>\n",
       "      <th>0</th>\n",
       "      <td>0.460424</td>\n",
       "      <td>1.660429e-09</td>\n",
       "      <td>-0.448337</td>\n",
       "      <td>0.889134</td>\n",
       "      <td>0.526256</td>\n",
       "      <td>5.069300</td>\n",
       "    </tr>\n",
       "    <tr>\n",
       "      <th>1</th>\n",
       "      <td>0.164073</td>\n",
       "      <td>5.256174e-09</td>\n",
       "      <td>-2.549402</td>\n",
       "      <td>0.636170</td>\n",
       "      <td>2.288480</td>\n",
       "      <td>2.994849</td>\n",
       "    </tr>\n",
       "    <tr>\n",
       "      <th>2</th>\n",
       "      <td>0.270179</td>\n",
       "      <td>3.456163e-09</td>\n",
       "      <td>-1.412331</td>\n",
       "      <td>0.737546</td>\n",
       "      <td>1.621062</td>\n",
       "      <td>0.609466</td>\n",
       "    </tr>\n",
       "    <tr>\n",
       "      <th>3</th>\n",
       "      <td>0.355081</td>\n",
       "      <td>6.252506e-09</td>\n",
       "      <td>-3.274889</td>\n",
       "      <td>0.652936</td>\n",
       "      <td>1.194285</td>\n",
       "      <td>4.059184</td>\n",
       "    </tr>\n",
       "    <tr>\n",
       "      <th>4</th>\n",
       "      <td>0.303968</td>\n",
       "      <td>2.716942e-09</td>\n",
       "      <td>-1.947522</td>\n",
       "      <td>0.704793</td>\n",
       "      <td>0.888568</td>\n",
       "      <td>5.578121</td>\n",
       "    </tr>\n",
       "    <tr>\n",
       "      <th>...</th>\n",
       "      <td>...</td>\n",
       "      <td>...</td>\n",
       "      <td>...</td>\n",
       "      <td>...</td>\n",
       "      <td>...</td>\n",
       "      <td>...</td>\n",
       "    </tr>\n",
       "    <tr>\n",
       "      <th>262139</th>\n",
       "      <td>0.303970</td>\n",
       "      <td>4.370100e-09</td>\n",
       "      <td>-2.888037</td>\n",
       "      <td>0.572479</td>\n",
       "      <td>1.852476</td>\n",
       "      <td>3.968100</td>\n",
       "    </tr>\n",
       "    <tr>\n",
       "      <th>262140</th>\n",
       "      <td>0.355078</td>\n",
       "      <td>1.660376e-09</td>\n",
       "      <td>-2.334765</td>\n",
       "      <td>0.607469</td>\n",
       "      <td>1.533497</td>\n",
       "      <td>5.497163</td>\n",
       "    </tr>\n",
       "    <tr>\n",
       "      <th>262141</th>\n",
       "      <td>0.270180</td>\n",
       "      <td>5.256130e-09</td>\n",
       "      <td>-0.668392</td>\n",
       "      <td>0.871607</td>\n",
       "      <td>0.651394</td>\n",
       "      <td>2.050381</td>\n",
       "    </tr>\n",
       "    <tr>\n",
       "      <th>262142</th>\n",
       "      <td>0.164073</td>\n",
       "      <td>3.456214e-09</td>\n",
       "      <td>-3.488377</td>\n",
       "      <td>0.680308</td>\n",
       "      <td>0.128017</td>\n",
       "      <td>1.728482</td>\n",
       "    </tr>\n",
       "    <tr>\n",
       "      <th>262143</th>\n",
       "      <td>0.460422</td>\n",
       "      <td>6.252553e-09</td>\n",
       "      <td>-1.193425</td>\n",
       "      <td>0.753591</td>\n",
       "      <td>2.057485</td>\n",
       "      <td>3.800500</td>\n",
       "    </tr>\n",
       "  </tbody>\n",
       "</table>\n",
       "<p>262144 rows × 6 columns</p>\n",
       "</div>"
      ],
      "text/plain": [
       "         Omega_m           A_s        w0         h         z     c_min\n",
       "0       0.460424  1.660429e-09 -0.448337  0.889134  0.526256  5.069300\n",
       "1       0.164073  5.256174e-09 -2.549402  0.636170  2.288480  2.994849\n",
       "2       0.270179  3.456163e-09 -1.412331  0.737546  1.621062  0.609466\n",
       "3       0.355081  6.252506e-09 -3.274889  0.652936  1.194285  4.059184\n",
       "4       0.303968  2.716942e-09 -1.947522  0.704793  0.888568  5.578121\n",
       "...          ...           ...       ...       ...       ...       ...\n",
       "262139  0.303970  4.370100e-09 -2.888037  0.572479  1.852476  3.968100\n",
       "262140  0.355078  1.660376e-09 -2.334765  0.607469  1.533497  5.497163\n",
       "262141  0.270180  5.256130e-09 -0.668392  0.871607  0.651394  2.050381\n",
       "262142  0.164073  3.456214e-09 -3.488377  0.680308  0.128017  1.728482\n",
       "262143  0.460422  6.252553e-09 -1.193425  0.753591  2.057485  3.800500\n",
       "\n",
       "[262144 rows x 6 columns]"
      ]
     },
     "execution_count": 3,
     "metadata": {},
     "output_type": "execute_result"
    }
   ],
   "source": [
    "parameters = pd.read_csv('/Users/ahalder/work/Integrated_3PCF/i3PCF/data/cosmo_parameters/i3PCF_sobol_training_2.6e5_nodes_part1.csv')\n",
    "\n",
    "parameters"
   ]
  },
  {
   "cell_type": "code",
   "execution_count": 4,
   "metadata": {},
   "outputs": [
    {
     "data": {
      "text/plain": [
       "(262144, 80)"
      ]
     },
     "execution_count": 4,
     "metadata": {},
     "output_type": "execute_result"
    }
   ],
   "source": [
    "P_l_data = np.load('/Users/ahalder/work/Integrated_3PCF/i3PCF/output/grids/P_nl_grids_l80_shear_x_shear_COSMOGRIDV1_fiducial_no_neutrinos_i3PCF_sobol_training_2.6e5_nodes_part1.npy')\n",
    "\n",
    "P_l_data.shape"
   ]
  },
  {
   "cell_type": "code",
   "execution_count": 5,
   "metadata": {},
   "outputs": [
    {
     "data": {
      "image/png": "[encoded data removed]",
      "text/plain": [
       "<Figure size 432x288 with 1 Axes>"
      ]
     },
     "metadata": {
      "needs_background": "light"
     },
     "output_type": "display_data"
    },
    {
     "name": "stdout",
     "output_type": "stream",
     "text": [
      "    Omega_m           A_s        w0         h         z     c_min\n",
      "0  0.460424  1.660429e-09 -0.448337  0.889134  0.526256  5.069300\n",
      "1  0.164073  5.256174e-09 -2.549402  0.636170  2.288480  2.994849\n",
      "2  0.270179  3.456163e-09 -1.412331  0.737546  1.621062  0.609466\n",
      "3  0.355081  6.252506e-09 -3.274889  0.652936  1.194285  4.059184\n",
      "4  0.303968  2.716942e-09 -1.947522  0.704793  0.888568  5.578121\n"
     ]
    }
   ],
   "source": [
    "import matplotlib.pyplot as plt\n",
    "\n",
    "# Plot the first 5 power spectra\n",
    "for i in range(5):\n",
    "    plt.plot(P_l_data[i], label=f'Spectrum {i+1}')\n",
    "\n",
    "plt.xlabel('Index')\n",
    "plt.ylabel('Power')\n",
    "plt.title('First 5 Power Spectra')\n",
    "plt.legend()\n",
    "plt.show()\n",
    "\n",
    "# Display the corresponding cosmological parameters\n",
    "print(parameters.head(5))"
   ]
  },
  {
   "cell_type": "code",
   "execution_count": null,
   "metadata": {},
   "outputs": [],
   "source": []
  }
 ],
 "metadata": {
  "kernelspec": {
   "display_name": "base",
   "language": "python",
   "name": "python3"
  },
  "language_info": {
   "codemirror_mode": {
    "name": "ipython",
    "version": 3
   },
   "file_extension": ".py",
   "mimetype": "text/x-python",
   "name": "python",
   "nbconvert_exporter": "python",
   "pygments_lexer": "ipython3",
   "version": "3.8.12"
  }
 },
 "nbformat": 4,
 "nbformat_minor": 2
}
